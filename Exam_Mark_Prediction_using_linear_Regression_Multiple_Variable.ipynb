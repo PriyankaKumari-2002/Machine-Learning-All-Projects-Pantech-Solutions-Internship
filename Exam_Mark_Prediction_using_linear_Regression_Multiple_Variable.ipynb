{
  "nbformat": 4,
  "nbformat_minor": 0,
  "metadata": {
    "colab": {
      "name": "Exam Mark Prediction using linear Regression-Multiple Variable.ipynb",
      "provenance": []
    },
    "kernelspec": {
      "name": "python3",
      "display_name": "Python 3"
    },
    "language_info": {
      "name": "python"
    }
  },
  "cells": [
    {
      "cell_type": "code",
      "metadata": {
        "id": "eEMY-TWFSyQ1"
      },
      "source": [
        "import pandas as pd\n",
        "from sklearn.linear_model import LinearRegression\n",
        "import matplotlib.pyplot as plt"
      ],
      "execution_count": 1,
      "outputs": []
    },
    {
      "cell_type": "markdown",
      "metadata": {
        "id": "fwVQgTS-TUP9"
      },
      "source": [
        "Load Dataset from local Directory"
      ]
    },
    {
      "cell_type": "code",
      "metadata": {
        "colab": {
          "resources": {
            "http://localhost:8080/nbextensions/google.colab/files.js": {
              "data": "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",
              "ok": true,
              "headers": [
                [
                  "content-type",
                  "application/javascript"
                ]
              ],
              "status": 200,
              "status_text": ""
            }
          },
          "base_uri": "https://localhost:8080/",
          "height": 73
        },
        "id": "LGWWuzVvUPkh",
        "outputId": "8d806361-bbce-44a1-b9c3-4da50398024e"
      },
      "source": [
        "from google.colab import files\n",
        "uploaded=files.upload()\n"
      ],
      "execution_count": 2,
      "outputs": [
        {
          "output_type": "display_data",
          "data": {
            "text/html": [
              "\n",
              "     <input type=\"file\" id=\"files-ff43dba4-c7d3-4984-bd46-9fc0c6045eda\" name=\"files[]\" multiple disabled\n",
              "        style=\"border:none\" />\n",
              "     <output id=\"result-ff43dba4-c7d3-4984-bd46-9fc0c6045eda\">\n",
              "      Upload widget is only available when the cell has been executed in the\n",
              "      current browser session. Please rerun this cell to enable.\n",
              "      </output>\n",
              "      <script src=\"/nbextensions/google.colab/files.js\"></script> "
            ],
            "text/plain": [
              "<IPython.core.display.HTML object>"
            ]
          },
          "metadata": {
            "tags": []
          }
        },
        {
          "output_type": "stream",
          "text": [
            "Saving data.csv to data.csv\n"
          ],
          "name": "stdout"
        }
      ]
    },
    {
      "cell_type": "markdown",
      "metadata": {
        "id": "_MwgFSzCUqUi"
      },
      "source": [
        "Load Dataset"
      ]
    },
    {
      "cell_type": "code",
      "metadata": {
        "id": "royWGSeUUuCp"
      },
      "source": [
        "dataset=pd.read_csv('data.csv')"
      ],
      "execution_count": 3,
      "outputs": []
    },
    {
      "cell_type": "markdown",
      "metadata": {
        "id": "Qz5gSGlRU1DG"
      },
      "source": [
        "Summarize"
      ]
    },
    {
      "cell_type": "code",
      "metadata": {
        "colab": {
          "base_uri": "https://localhost:8080/"
        },
        "id": "3-vMU2w9U3GV",
        "outputId": "1b402ebc-3180-4cd6-d1b0-dadb21d7a433"
      },
      "source": [
        "print(dataset.shape)\n",
        "print(dataset.head(5))"
      ],
      "execution_count": 4,
      "outputs": [
        {
          "output_type": "stream",
          "text": [
            "(201, 4)\n",
            "   hours  age  internet  marks\n",
            "0   6.83   15         1  78.50\n",
            "1   6.56   16         0  76.74\n",
            "2    NaN   17         1  78.68\n",
            "3   5.67   18         0  71.82\n",
            "4   8.67   19         1  84.19\n"
          ],
          "name": "stdout"
        }
      ]
    },
    {
      "cell_type": "markdown",
      "metadata": {
        "id": "zUgTpN7IVAgt"
      },
      "source": [
        "Finding and Removing NA values from our Features X"
      ]
    },
    {
      "cell_type": "code",
      "metadata": {
        "colab": {
          "base_uri": "https://localhost:8080/"
        },
        "id": "l2pKf05BVHcb",
        "outputId": "ba4496b2-6198-49b7-fef7-6f6225555bbf"
      },
      "source": [
        "dataset.columns[dataset.isna().any()]"
      ],
      "execution_count": 5,
      "outputs": [
        {
          "output_type": "execute_result",
          "data": {
            "text/plain": [
              "Index(['hours'], dtype='object')"
            ]
          },
          "metadata": {
            "tags": []
          },
          "execution_count": 5
        }
      ]
    },
    {
      "cell_type": "code",
      "metadata": {
        "id": "Q2ooK2y8VY2K"
      },
      "source": [
        "dataset.hours=dataset.hours.fillna(dataset.hours.mean())"
      ],
      "execution_count": 6,
      "outputs": []
    },
    {
      "cell_type": "markdown",
      "metadata": {
        "id": "Hc6Hwdc1VvKC"
      },
      "source": [
        "Segregate into X and Y"
      ]
    },
    {
      "cell_type": "code",
      "metadata": {
        "colab": {
          "base_uri": "https://localhost:8080/"
        },
        "id": "zh5sJvJ2VzaI",
        "outputId": "0b5e5dfd-6fec-498c-811f-061928ff4397"
      },
      "source": [
        "X=dataset.iloc[:,:-1].values\n",
        "print(X.shape)\n",
        "X"
      ],
      "execution_count": 7,
      "outputs": [
        {
          "output_type": "stream",
          "text": [
            "(201, 3)\n"
          ],
          "name": "stdout"
        },
        {
          "output_type": "execute_result",
          "data": {
            "text/plain": [
              "array([[ 6.83      , 15.        ,  1.        ],\n",
              "       [ 6.56      , 16.        ,  0.        ],\n",
              "       [ 6.98142857, 17.        ,  1.        ],\n",
              "       [ 5.67      , 18.        ,  0.        ],\n",
              "       [ 8.67      , 19.        ,  1.        ],\n",
              "       [ 7.55      , 20.        ,  0.        ],\n",
              "       [ 6.67      , 15.        ,  0.        ],\n",
              "       [ 8.99      , 16.        ,  0.        ],\n",
              "       [ 5.19      , 17.        ,  1.        ],\n",
              "       [ 6.75      , 18.        ,  0.        ],\n",
              "       [ 6.59      , 19.        ,  0.        ],\n",
              "       [ 8.56      , 20.        ,  1.        ],\n",
              "       [ 7.75      , 15.        ,  0.        ],\n",
              "       [ 7.9       , 16.        ,  1.        ],\n",
              "       [ 8.19      , 17.        ,  0.        ],\n",
              "       [ 6.55      , 18.        ,  1.        ],\n",
              "       [ 6.36      , 19.        ,  0.        ],\n",
              "       [ 8.44      , 20.        ,  1.        ],\n",
              "       [ 8.41      , 15.        ,  0.        ],\n",
              "       [ 7.67      , 16.        ,  1.        ],\n",
              "       [ 7.42      , 17.        ,  1.        ],\n",
              "       [ 8.16      , 18.        ,  1.        ],\n",
              "       [ 5.05      , 19.        ,  1.        ],\n",
              "       [ 5.85      , 20.        ,  1.        ],\n",
              "       [ 5.45      , 15.        ,  0.        ],\n",
              "       [ 7.96      , 16.        ,  0.        ],\n",
              "       [ 6.51      , 17.        ,  0.        ],\n",
              "       [ 6.73      , 18.        ,  0.        ],\n",
              "       [ 5.94      , 19.        ,  1.        ],\n",
              "       [ 7.48      , 20.        ,  0.        ],\n",
              "       [ 8.13      , 15.        ,  1.        ],\n",
              "       [ 6.98142857, 16.        ,  1.        ],\n",
              "       [ 5.4       , 17.        ,  1.        ],\n",
              "       [ 8.78      , 18.        ,  0.        ],\n",
              "       [ 8.72      , 19.        ,  1.        ],\n",
              "       [ 7.1       , 20.        ,  0.        ],\n",
              "       [ 7.86      , 15.        ,  1.        ],\n",
              "       [ 7.19      , 16.        ,  0.        ],\n",
              "       [ 5.62      , 17.        ,  1.        ],\n",
              "       [ 7.88      , 18.        ,  0.        ],\n",
              "       [ 5.28      , 19.        ,  1.        ],\n",
              "       [ 8.92      , 20.        ,  1.        ],\n",
              "       [ 5.46      , 15.        ,  0.        ],\n",
              "       [ 8.3       , 16.        ,  1.        ],\n",
              "       [ 8.09      , 17.        ,  0.        ],\n",
              "       [ 6.18      , 18.        ,  1.        ],\n",
              "       [ 7.01      , 19.        ,  1.        ],\n",
              "       [ 5.01      , 20.        ,  0.        ],\n",
              "       [ 5.54      , 15.        ,  1.        ],\n",
              "       [ 5.09      , 16.        ,  1.        ],\n",
              "       [ 5.09      , 17.        ,  0.        ],\n",
              "       [ 7.31      , 18.        ,  1.        ],\n",
              "       [ 8.71      , 19.        ,  0.        ],\n",
              "       [ 5.52      , 20.        ,  1.        ],\n",
              "       [ 8.76      , 15.        ,  0.        ],\n",
              "       [ 8.69      , 16.        ,  1.        ],\n",
              "       [ 5.75      , 17.        ,  1.        ],\n",
              "       [ 8.93      , 18.        ,  1.        ],\n",
              "       [ 5.39      , 19.        ,  1.        ],\n",
              "       [ 5.65      , 20.        ,  0.        ],\n",
              "       [ 5.49      , 15.        ,  1.        ],\n",
              "       [ 7.26      , 16.        ,  1.        ],\n",
              "       [ 6.35      , 17.        ,  0.        ],\n",
              "       [ 7.72      , 18.        ,  1.        ],\n",
              "       [ 8.88      , 19.        ,  0.        ],\n",
              "       [ 5.45      , 20.        ,  1.        ],\n",
              "       [ 7.86      , 15.        ,  1.        ],\n",
              "       [ 8.26      , 16.        ,  0.        ],\n",
              "       [ 5.07      , 17.        ,  1.        ],\n",
              "       [ 8.25      , 18.        ,  0.        ],\n",
              "       [ 5.37      , 19.        ,  1.        ],\n",
              "       [ 5.11      , 20.        ,  1.        ],\n",
              "       [ 6.35      , 15.        ,  0.        ],\n",
              "       [ 7.41      , 16.        ,  1.        ],\n",
              "       [ 7.31      , 17.        ,  0.        ],\n",
              "       [ 6.04      , 18.        ,  1.        ],\n",
              "       [ 5.11      , 19.        ,  1.        ],\n",
              "       [ 6.56      , 20.        ,  0.        ],\n",
              "       [ 5.09      , 15.        ,  1.        ],\n",
              "       [ 5.88      , 16.        ,  0.        ],\n",
              "       [ 8.34      , 17.        ,  1.        ],\n",
              "       [ 7.94      , 18.        ,  0.        ],\n",
              "       [ 6.66      , 19.        ,  1.        ],\n",
              "       [ 6.01      , 20.        ,  1.        ],\n",
              "       [ 6.88      , 15.        ,  0.        ],\n",
              "       [ 5.63      , 16.        ,  1.        ],\n",
              "       [ 5.88      , 17.        ,  0.        ],\n",
              "       [ 8.05      , 18.        ,  1.        ],\n",
              "       [ 5.33      , 19.        ,  0.        ],\n",
              "       [ 8.79      , 20.        ,  0.        ],\n",
              "       [ 7.52      , 15.        ,  1.        ],\n",
              "       [ 8.2       , 16.        ,  0.        ],\n",
              "       [ 5.44      , 17.        ,  1.        ],\n",
              "       [ 7.9       , 18.        ,  0.        ],\n",
              "       [ 7.69      , 19.        ,  1.        ],\n",
              "       [ 6.09      , 20.        ,  0.        ],\n",
              "       [ 6.98142857, 15.        ,  1.        ],\n",
              "       [ 5.2       , 16.        ,  1.        ],\n",
              "       [ 8.88      , 17.        ,  0.        ],\n",
              "       [ 8.07      , 18.        ,  1.        ],\n",
              "       [ 6.24      , 19.        ,  1.        ],\n",
              "       [ 7.95      , 20.        ,  0.        ],\n",
              "       [ 8.26      , 15.        ,  0.        ],\n",
              "       [ 7.31      , 16.        ,  1.        ],\n",
              "       [ 7.23      , 17.        ,  1.        ],\n",
              "       [ 6.46      , 18.        ,  1.        ],\n",
              "       [ 5.34      , 19.        ,  1.        ],\n",
              "       [ 5.72      , 20.        ,  1.        ],\n",
              "       [ 5.84      , 15.        ,  0.        ],\n",
              "       [ 5.02      , 16.        ,  1.        ],\n",
              "       [ 7.98      , 17.        ,  0.        ],\n",
              "       [ 6.37      , 18.        ,  1.        ],\n",
              "       [ 6.92      , 19.        ,  0.        ],\n",
              "       [ 7.95      , 20.        ,  1.        ],\n",
              "       [ 7.12      , 15.        ,  0.        ],\n",
              "       [ 5.79      , 16.        ,  1.        ],\n",
              "       [ 5.4       , 17.        ,  0.        ],\n",
              "       [ 8.83      , 18.        ,  1.        ],\n",
              "       [ 5.69      , 19.        ,  0.        ],\n",
              "       [ 6.6       , 20.        ,  1.        ],\n",
              "       [ 6.52      , 15.        ,  0.        ],\n",
              "       [ 8.31      , 16.        ,  0.        ],\n",
              "       [ 6.98142857, 17.        ,  1.        ],\n",
              "       [ 7.62      , 18.        ,  0.        ],\n",
              "       [ 8.69      , 19.        ,  1.        ],\n",
              "       [ 8.75      , 20.        ,  0.        ],\n",
              "       [ 6.46      , 15.        ,  1.        ],\n",
              "       [ 7.14      , 16.        ,  1.        ],\n",
              "       [ 6.38      , 17.        ,  0.        ],\n",
              "       [ 6.33      , 18.        ,  1.        ],\n",
              "       [ 5.64      , 19.        ,  0.        ],\n",
              "       [ 5.26      , 20.        ,  1.        ],\n",
              "       [ 6.83      , 15.        ,  1.        ],\n",
              "       [ 5.76      , 16.        ,  0.        ],\n",
              "       [ 6.51      , 17.        ,  1.        ],\n",
              "       [ 8.33      , 18.        ,  0.        ],\n",
              "       [ 8.16      , 19.        ,  1.        ],\n",
              "       [ 5.14      , 20.        ,  0.        ],\n",
              "       [ 8.71      , 15.        ,  0.        ],\n",
              "       [ 8.6       , 16.        ,  1.        ],\n",
              "       [ 8.6       , 17.        ,  0.        ],\n",
              "       [ 7.43      , 18.        ,  1.        ],\n",
              "       [ 7.81      , 19.        ,  1.        ],\n",
              "       [ 6.51      , 20.        ,  0.        ],\n",
              "       [ 8.11      , 15.        ,  1.        ],\n",
              "       [ 8.95      , 16.        ,  0.        ],\n",
              "       [ 7.99      , 17.        ,  1.        ],\n",
              "       [ 5.92      , 18.        ,  0.        ],\n",
              "       [ 8.3       , 19.        ,  1.        ],\n",
              "       [ 8.97      , 20.        ,  0.        ],\n",
              "       [ 5.39      , 15.        ,  0.        ],\n",
              "       [ 6.77      , 16.        ,  0.        ],\n",
              "       [ 8.08      , 17.        ,  1.        ],\n",
              "       [ 5.24      , 18.        ,  0.        ],\n",
              "       [ 6.93      , 19.        ,  1.        ],\n",
              "       [ 5.14      , 20.        ,  0.        ],\n",
              "       [ 8.39      , 15.        ,  1.        ],\n",
              "       [ 6.18      , 16.        ,  0.        ],\n",
              "       [ 7.53      , 17.        ,  1.        ],\n",
              "       [ 7.86      , 18.        ,  0.        ],\n",
              "       [ 7.7       , 19.        ,  1.        ],\n",
              "       [ 7.3       , 20.        ,  0.        ],\n",
              "       [ 7.79      , 15.        ,  1.        ],\n",
              "       [ 6.75      , 16.        ,  0.        ],\n",
              "       [ 7.87      , 17.        ,  1.        ],\n",
              "       [ 5.38      , 18.        ,  0.        ],\n",
              "       [ 7.8       , 19.        ,  1.        ],\n",
              "       [ 5.07      , 20.        ,  0.        ],\n",
              "       [ 7.95      , 15.        ,  1.        ],\n",
              "       [ 8.35      , 16.        ,  0.        ],\n",
              "       [ 5.19      , 17.        ,  0.        ],\n",
              "       [ 7.19      , 18.        ,  0.        ],\n",
              "       [ 7.35      , 19.        ,  1.        ],\n",
              "       [ 5.22      , 20.        ,  1.        ],\n",
              "       [ 5.39      , 15.        ,  1.        ],\n",
              "       [ 5.39      , 16.        ,  1.        ],\n",
              "       [ 8.93      , 17.        ,  1.        ],\n",
              "       [ 5.79      , 18.        ,  0.        ],\n",
              "       [ 8.42      , 19.        ,  1.        ],\n",
              "       [ 7.26      , 20.        ,  0.        ],\n",
              "       [ 6.97      , 15.        ,  1.        ],\n",
              "       [ 5.55      , 16.        ,  1.        ],\n",
              "       [ 8.66      , 17.        ,  0.        ],\n",
              "       [ 8.61      , 18.        ,  1.        ],\n",
              "       [ 5.22      , 19.        ,  1.        ],\n",
              "       [ 8.05      , 20.        ,  0.        ],\n",
              "       [ 8.87      , 15.        ,  1.        ],\n",
              "       [ 5.54      , 16.        ,  0.        ],\n",
              "       [ 6.98142857, 17.        ,  0.        ],\n",
              "       [ 7.26      , 18.        ,  1.        ],\n",
              "       [ 5.79      , 19.        ,  0.        ],\n",
              "       [ 5.22      , 20.        ,  0.        ],\n",
              "       [ 8.71      , 15.        ,  1.        ],\n",
              "       [ 7.55      , 16.        ,  1.        ],\n",
              "       [ 6.35      , 17.        ,  1.        ],\n",
              "       [ 7.53      , 18.        ,  0.        ],\n",
              "       [ 8.56      , 19.        ,  1.        ],\n",
              "       [ 8.94      , 20.        ,  1.        ],\n",
              "       [ 6.6       , 15.        ,  1.        ],\n",
              "       [ 8.35      , 16.        ,  1.        ],\n",
              "       [ 4.15      , 15.        ,  0.        ]])"
            ]
          },
          "metadata": {
            "tags": []
          },
          "execution_count": 7
        }
      ]
    },
    {
      "cell_type": "code",
      "metadata": {
        "colab": {
          "base_uri": "https://localhost:8080/"
        },
        "id": "Z3qb5hFSWbN-",
        "outputId": "4b260a4e-5dce-4fca-e968-61593411f5e0"
      },
      "source": [
        "Y=dataset.iloc[:,-1].values\n",
        "Y"
      ],
      "execution_count": 8,
      "outputs": [
        {
          "output_type": "execute_result",
          "data": {
            "text/plain": [
              "array([78.5 , 76.74, 78.68, 71.82, 84.19, 81.18, 76.99, 85.46, 70.66,\n",
              "       77.82, 75.37, 83.88, 79.5 , 80.76, 83.08, 76.03, 76.04, 85.11,\n",
              "       82.5 , 80.58, 82.18, 83.36, 70.67, 75.02, 70.96, 83.33, 74.75,\n",
              "       75.65, 74.15, 80.17, 82.27, 76.14, 71.1 , 84.35, 83.08, 76.76,\n",
              "       81.24, 78.21, 73.08, 83.23, 70.27, 86.41, 71.1 , 82.84, 82.38,\n",
              "       72.96, 77.46, 70.11, 72.38, 71.41, 72.22, 77.77, 84.44, 71.45,\n",
              "       82.21, 85.48, 75.03, 86.65, 70.9 , 71.7 , 73.61, 79.41, 76.19,\n",
              "       80.43, 85.78, 70.06, 81.25, 81.7 , 69.27, 82.79, 71.8 , 71.79,\n",
              "       74.97, 78.61, 77.59, 72.33, 72.08, 77.33, 70.05, 73.34, 84.  ,\n",
              "       82.93, 76.63, 75.36, 77.29, 72.87, 73.4 , 81.74, 71.85, 84.6 ,\n",
              "       79.56, 82.1 , 72.08, 79.1 , 81.01, 76.48, 75.39, 68.57, 83.64,\n",
              "       82.3 , 75.18, 82.03, 82.99, 79.26, 77.55, 77.07, 72.1 , 73.25,\n",
              "       74.25, 70.58, 81.08, 75.04, 76.38, 80.86, 78.42, 74.44, 70.34,\n",
              "       85.04, 73.61, 75.55, 76.2 , 82.69, 76.83, 79.53, 83.57, 85.95,\n",
              "       76.02, 77.65, 77.01, 74.49, 73.19, 71.86, 75.8 , 72.46, 78.39,\n",
              "       83.48, 83.15, 71.22, 85.98, 83.91, 84.58, 80.31, 82.55, 75.52,\n",
              "       83.82, 85.15, 82.75, 74.34, 82.02, 86.12, 71.87, 76.7 , 81.7 ,\n",
              "       70.78, 78.45, 70.2 , 83.37, 75.52, 81.57, 80.72, 80.81, 79.49,\n",
              "       79.17, 77.07, 82.04, 71.94, 81.6 , 70.79, 82.68, 83.08, 71.18,\n",
              "       77.63, 77.78, 70.4 , 73.02, 71.11, 85.96, 73.64, 84.24, 78.17,\n",
              "       77.19, 71.83, 86.99, 83.87, 71.5 , 79.63, 85.1 , 72.01, 77.27,\n",
              "       79.87, 73.14, 70.51, 84.03, 79.64, 74.24, 81.67, 84.68, 86.75,\n",
              "       78.05, 83.5 , 81.45])"
            ]
          },
          "metadata": {
            "tags": []
          },
          "execution_count": 8
        }
      ]
    },
    {
      "cell_type": "markdown",
      "metadata": {
        "id": "82F_pBmhWtfL"
      },
      "source": [
        "Trained Dataset using Linear Regression"
      ]
    },
    {
      "cell_type": "code",
      "metadata": {
        "colab": {
          "base_uri": "https://localhost:8080/"
        },
        "id": "EFrj2DX8Wy_i",
        "outputId": "6eda366e-d718-4eee-cb8c-6ed986d9c14d"
      },
      "source": [
        "model=LinearRegression()\n",
        "model.fit(X,Y)"
      ],
      "execution_count": 9,
      "outputs": [
        {
          "output_type": "execute_result",
          "data": {
            "text/plain": [
              "LinearRegression(copy_X=True, fit_intercept=True, n_jobs=None, normalize=False)"
            ]
          },
          "metadata": {
            "tags": []
          },
          "execution_count": 9
        }
      ]
    },
    {
      "cell_type": "markdown",
      "metadata": {
        "id": "z3jlUEp9X7xt"
      },
      "source": [
        "Marks Prediction Custom Values"
      ]
    },
    {
      "cell_type": "code",
      "metadata": {
        "colab": {
          "base_uri": "https://localhost:8080/"
        },
        "id": "53HkI76MY912",
        "outputId": "5a5a4969-12f8-4cef-831a-4ad6133873c1"
      },
      "source": [
        "ExamMark=[[8.67,19,1]]\n",
        "PredictedModelResult=model.predict(ExamMark)\n",
        "print(PredictedModelResult)"
      ],
      "execution_count": 11,
      "outputs": [
        {
          "output_type": "stream",
          "text": [
            "[84.25087518]\n"
          ],
          "name": "stdout"
        }
      ]
    }
  ]
}